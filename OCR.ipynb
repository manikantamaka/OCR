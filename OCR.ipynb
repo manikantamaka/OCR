{
 "cells": [
  {
   "cell_type": "markdown",
   "metadata": {},
   "source": [
    "###  need to install pypdf2 library which is built on python for handling different pdf functionalities"
   ]
  },
  {
   "cell_type": "code",
   "execution_count": 2,
   "metadata": {
    "scrolled": true
   },
   "outputs": [],
   "source": [
    "# !pip install pypdf2"
   ]
  },
  {
   "cell_type": "markdown",
   "metadata": {},
   "source": [
    "### Importing the library"
   ]
  },
  {
   "cell_type": "code",
   "execution_count": 3,
   "metadata": {},
   "outputs": [],
   "source": [
    "import PyPDF2"
   ]
  },
  {
   "cell_type": "code",
   "execution_count": 9,
   "metadata": {},
   "outputs": [],
   "source": [
    "filepath=r\"C:/Users/MANIKANTA/Downloads/fw4.pdf\"\n",
    "pdffile = open(filepath,'rb')\n",
    "pdfReader = PyPDF2.PdfFileReader(pdffile)\n",
    "num_pages = pdfReader.numPages\n",
    "info=pdfReader.getDocumentInfo()"
   ]
  },
  {
   "cell_type": "code",
   "execution_count": 10,
   "metadata": {},
   "outputs": [
    {
     "name": "stdout",
     "output_type": "stream",
     "text": [
      "No. of Pages:  4\n",
      "Titel:  2020 Form W-4\n",
      "Author:  SE:W:CAR:MP\n",
      "Subject:  Employee's Withholding Certificate\n",
      "Creator:  Adobe LiveCycle Designer ES 9.0\n",
      "Producer:  Adobe LiveCycle Designer ES 9.0\n"
     ]
    }
   ],
   "source": [
    "print(\"No. of Pages: \", num_pages)\n",
    "print(\"Titel: \", info.title)\n",
    "print(\"Author: \",info.author)\n",
    "print(\"Subject: \",info.subject)\n",
    "print(\"Creator: \",info.creator)\n",
    "print(\"Producer: \",info.producer)"
   ]
  },
  {
   "cell_type": "markdown",
   "metadata": {},
   "source": [
    "## Retrieve the text from all the pages in the PDF file\n",
    "### Iterate through all the pages in the PDF file and then use getPage(), which will retrieve a page by a number from the PDF file. You can now extract the text from PDF file using extractText(). In the end, close the file using close()"
   ]
  },
  {
   "cell_type": "code",
   "execution_count": 6,
   "metadata": {
    "scrolled": true
   },
   "outputs": [
    {
     "name": "stdout",
     "output_type": "stream",
     "text": [
      "Page Number 1\n",
      "Content Form  W-42020Employee™s Withholding CertificateDepartment of the Treasury  Internal Revenue Service  Complete Form W-4 so that your employer can withhold the correct federal income tax from your pay.  Give Form W-4 to your employer.  Your withholding is subject to review by the IRS.OMB No. 1545-0074Step 1: Enter \n",
      "Personal \n",
      "Information(a)   First name and middle initialLast nameAddress City or town, state, and ZIP code(b)   Social security number Does your name match the name on your social security card? If not, to ensure you get credit for your earnings, contact SSA at 800-772-1213 or go to www.ssa.gov.(c) Single or Married filing separatelyMarried filing jointly (or Qualifying widow(er))Head of household (Check only if you™re unmarried and pay more than half the costs of keeping up a home for yourself and a qualifying individual.)Complete Steps 2Œ4 ONLY if they apply to you; otherwise, skip to Step 5. See page 2 for more information on each step, who can claim exemption from withholding, when to use the online estimator, and privacy.Step 2: Multiple Jobs \n",
      "or Spouse \n",
      "WorksComplete this step if you (1) hold more than one job at a time, or (2) are married filing jointly and your spousealso works. The correct amount of withholding depends on income earned from all of these jobs.Do only one of the following.(a)Use the estimator at www.irs.gov/W4App for most accurate withholding for this step (and Steps 3Œ4); or (b)Use the Multiple Jobs Worksheet on page 3 and enter the result in Step 4(c) below for roughly accurate withholding; or (c) If there are only two jobs total, you may check this box. Do the same on Form W-4 for the other job. This option is accurate for jobs with similar pay; otherwise, more tax than necessary may be withheld ..... TIP: To be accurate, submit a 2020 Form W-4 for all other jobs. If you (or your spouse) have self-employment income, including as an independent contractor, use the estimator.Complete Steps 3Œ4(b) on Form W-4 for only ONE of these jobs. Leave those steps blank for the other jobs. (Your withholding will be most accurate if you complete Steps 3Œ4(b) on the Form W-4 for the highest paying job.)Step 3: Claim DependentsIf your income will be $200,000 or less ($400,000 or less if married filing jointly): Multiply the number of qualifying children under age 17 by $2,000 $Multiply the number of other dependents by $500 ....  $Add the amounts above and enter the total here .............3$Step 4 \n",
      "(optional): Other  \n",
      "Adjustments(a) \n",
      " Other income (not from jobs). If you want tax withheld for other income you expect this year that won™t have withholding, enter the amount of other income here. This may include interest, dividends, and retirement income ............4(a)$(b) \n",
      " Deductions. If you expect to claim deductions other than the standard deductionand want to reduce your withholding, use the Deductions Worksheet on page 3 and enter the result here .....................4(b)$(c)Extra withholding. Enter any additional tax you want withheld each pay period .4(c)$Step 5: Sign \n",
      "HereUnder penalties of perjury, I declare that this certificate, to the best of my knowledge and belief, is true, correct, and complete.Employee™s signature (This form is not valid unless you sign it.)Date Employers \n",
      "OnlyEmployer™s name and address First date of employmentEmployer identification \n",
      "number (EIN)For Privacy Act and Paperwork Reduction Act Notice, see page 3.Cat. No. 10220QForm W-4 (2020) \n",
      "Page Number 2\n",
      "Content Form  W-42020Employee™s Withholding CertificateDepartment of the Treasury  Internal Revenue Service  Complete Form W-4 so that your employer can withhold the correct federal income tax from your pay.  Give Form W-4 to your employer.  Your withholding is subject to review by the IRS.OMB No. 1545-0074Step 1: Enter \n",
      "Personal \n",
      "Information(a)   First name and middle initialLast nameAddress City or town, state, and ZIP code(b)   Social security number Does your name match the name on your social security card? If not, to ensure you get credit for your earnings, contact SSA at 800-772-1213 or go to www.ssa.gov.(c) Single or Married filing separatelyMarried filing jointly (or Qualifying widow(er))Head of household (Check only if you™re unmarried and pay more than half the costs of keeping up a home for yourself and a qualifying individual.)Complete Steps 2Œ4 ONLY if they apply to you; otherwise, skip to Step 5. See page 2 for more information on each step, who can claim exemption from withholding, when to use the online estimator, and privacy.Step 2: Multiple Jobs \n",
      "or Spouse \n",
      "WorksComplete this step if you (1) hold more than one job at a time, or (2) are married filing jointly and your spousealso works. The correct amount of withholding depends on income earned from all of these jobs.Do only one of the following.(a)Use the estimator at www.irs.gov/W4App for most accurate withholding for this step (and Steps 3Œ4); or (b)Use the Multiple Jobs Worksheet on page 3 and enter the result in Step 4(c) below for roughly accurate withholding; or (c) If there are only two jobs total, you may check this box. Do the same on Form W-4 for the other job. This option is accurate for jobs with similar pay; otherwise, more tax than necessary may be withheld ..... TIP: To be accurate, submit a 2020 Form W-4 for all other jobs. If you (or your spouse) have self-employment income, including as an independent contractor, use the estimator.Complete Steps 3Œ4(b) on Form W-4 for only ONE of these jobs. Leave those steps blank for the other jobs. (Your withholding will be most accurate if you complete Steps 3Œ4(b) on the Form W-4 for the highest paying job.)Step 3: Claim DependentsIf your income will be $200,000 or less ($400,000 or less if married filing jointly): Multiply the number of qualifying children under age 17 by $2,000 $Multiply the number of other dependents by $500 ....  $Add the amounts above and enter the total here .............3$Step 4 \n",
      "(optional): Other  \n",
      "Adjustments(a) \n",
      " Other income (not from jobs). If you want tax withheld for other income you expect this year that won™t have withholding, enter the amount of other income here. This may include interest, dividends, and retirement income ............4(a)$(b) \n",
      " Deductions. If you expect to claim deductions other than the standard deductionand want to reduce your withholding, use the Deductions Worksheet on page 3 and enter the result here .....................4(b)$(c)Extra withholding. Enter any additional tax you want withheld each pay period .4(c)$Step 5: Sign \n",
      "HereUnder penalties of perjury, I declare that this certificate, to the best of my knowledge and belief, is true, correct, and complete.Employee™s signature (This form is not valid unless you sign it.)Date Employers \n",
      "OnlyEmployer™s name and address First date of employmentEmployer identification \n",
      "number (EIN)For Privacy Act and Paperwork Reduction Act Notice, see page 3.Cat. No. 10220QForm W-4 (2020) Form W-4 (2020)Page 2General InstructionsFuture DevelopmentsFor the latest information about developments related to Form W-4, such as legislation enacted after it was published, go to www.irs.gov/FormW4.Purpose of FormComplete Form W-4 so that your employer can withhold the correct federal income tax from your pay. If too little is withheld, you will generally owe tax when you file your tax return and may owe a penalty. If too much is withheld, you will \n",
      "generally be due a refund. Complete a new Form W-4 when \n",
      "changes to your personal or financial situation would change the entries on the form. For more information on withholding and when you must furnish a new Form W-4, see Pub. 505. Exemption from withholding. You may claim exemption from \n",
      "withholding for 2020 if you meet both of the following conditions: you had no federal income tax liability in 2019 and you expect to have no federal income tax liability in 2020. You had no federal income tax liability in 2019 if (1) your total tax on \n",
      "line 16 on your 2019 Form 1040 or 1040-SR is zero (or less than the sum of lines 18a, 18b, and 18c), or (2) you were not required to file a return because your income was below the \n",
      "filing threshold for your correct filing status. If you claim \n",
      "exemption, you will have no income tax withheld from your paycheck and may owe taxes and penalties when you file your 2020 tax return. To claim exemption from withholding, certify \n",
      "that you meet both of the conditions above by writing ﬁExemptﬂ \n",
      "on Form W-4 in the space below Step 4(c). Then, complete Steps 1(a), 1(b), and 5. Do not complete any other steps. You will need to submit a new Form W-4 by February 16, 2021.Your privacy. If you prefer to limit information provided in \n",
      "Steps 2 through 4, use the online estimator, which will also increase accuracy. As an alternative to the estimator: if you have concerns with Step 2(c), you may choose Step 2(b); if you have concerns with Step 4(a), you may enter an additional amount \n",
      "you want withheld per pay period in Step 4(c). If this is the only job in your household, you may instead check the box in Step 2(c), which will increase your withholding and \n",
      "significantly reduce your paycheck (often by thousands of \n",
      "dollars over the year).When to use the estimator. Consider using the estimator at www.irs.gov/W4App if you:1. Expect to work only part of the year; \n",
      "2. Have dividend or capital gain income, or are subject to additional taxes, such as the additional Medicare tax;3. Have self-employment income (see below); or\n",
      "4. Prefer the most accurate withholding for multiple job situations.Self-employment. Generally, you will owe both income and self-employment taxes on any self-employment income you receive separate from the wages you receive as an employee. If you want to pay these taxes through \n",
      "withholding from your wages, use the estimator at \n",
      "www.irs.gov/W4App to figure the amount to have withheld.Nonresident alien. If you™re a nonresident alien, see Notice 1392, Supplemental Form W-4 Instructions for Nonresident Aliens, before completing this form.Specific InstructionsStep 1(c). Check your anticipated filing status. This will \n",
      "determine the standard deduction and tax rates used to compute your withholding.Step 2. Use this step if you (1) have more than one job at the same time, or (2) are married filing jointly and you and your \n",
      "spouse both work. Option (a) most accurately calculates the additional tax you need to have withheld, while option (b) does so with a little less accuracy. If you (and your spouse) have a total of only two jobs, you may instead check the box in option (c). The box must also be \n",
      "checked on the Form W-4 for the other job. If the box is checked, the standard deduction and tax brackets will be cut \n",
      "in half for each job to calculate withholding. This option is \n",
      "roughly accurate for jobs with similar pay; otherwise, more tax than necessary may be withheld, and this extra amount will be larger the greater the difference in pay is between the two jobs.!CAUTIONMultiple jobs. Complete Steps 3 through 4(b) on only \n",
      "one Form W-4. Withholding will be most accurate if you do this on the Form W-4 for the highest paying job.Step 3. Step 3 of Form W-4 provides instructions for determining the amount of the child tax credit and the credit for other dependents that you may be able to claim when you file your tax return. To qualify for the child tax credit, the \n",
      "child must be under age 17 as of December 31, must be \n",
      "your dependent who generally lives with you for more than half the year, and must have the required social security number. You may be able to claim a credit for other \n",
      "dependents for whom a child tax credit can™t be claimed, \n",
      "such as an older child or a qualifying relative. For additional eligibility requirements for these credits, see Pub. 972, Child Tax Credit and Credit for Other Dependents. You can also \n",
      "include other tax credits in this step, such as education tax \n",
      "credits and the foreign tax credit. To do so, add an estimate of the amount for the year to your credits for dependents and enter the total amount in Step 3. Including these credits \n",
      "will increase your paycheck and reduce the amount of any \n",
      "refund you may receive when you file your tax return. Step 4 (optional).Step 4(a). Enter in this step the total of your other estimated income for the year, if any. You shouldn™t include income from any jobs or self-employment. If you complete \n",
      "Step 4(a), you likely won™t have to make estimated tax payments for that income. If you prefer to pay estimated tax rather than having tax on other income withheld from your \n",
      "paycheck, see Form 1040-ES, Estimated Tax for Individuals.Step 4(b). Enter in this step the amount from the Deductions Worksheet, line 5, if you expect to claim deductions other than the basic standard deduction on your 2020 tax return and want to reduce your withholding to account for these \n",
      "deductions. This includes both itemized deductions and other \n",
      "deductions such as for student loan interest and IRAs.Step 4(c). Enter in this step any additional tax you want withheld from your pay each pay period, including any amounts from the Multiple Jobs Worksheet, line 4. Entering an amount here will reduce your paycheck and will either increase \n",
      "your refund or reduce any amount of tax that you owe.\n",
      "Page Number 3\n",
      "Content Form  W-42020Employee™s Withholding CertificateDepartment of the Treasury  Internal Revenue Service  Complete Form W-4 so that your employer can withhold the correct federal income tax from your pay.  Give Form W-4 to your employer.  Your withholding is subject to review by the IRS.OMB No. 1545-0074Step 1: Enter \n",
      "Personal \n",
      "Information(a)   First name and middle initialLast nameAddress City or town, state, and ZIP code(b)   Social security number Does your name match the name on your social security card? If not, to ensure you get credit for your earnings, contact SSA at 800-772-1213 or go to www.ssa.gov.(c) Single or Married filing separatelyMarried filing jointly (or Qualifying widow(er))Head of household (Check only if you™re unmarried and pay more than half the costs of keeping up a home for yourself and a qualifying individual.)Complete Steps 2Œ4 ONLY if they apply to you; otherwise, skip to Step 5. See page 2 for more information on each step, who can claim exemption from withholding, when to use the online estimator, and privacy.Step 2: Multiple Jobs \n",
      "or Spouse \n",
      "WorksComplete this step if you (1) hold more than one job at a time, or (2) are married filing jointly and your spousealso works. The correct amount of withholding depends on income earned from all of these jobs.Do only one of the following.(a)Use the estimator at www.irs.gov/W4App for most accurate withholding for this step (and Steps 3Œ4); or (b)Use the Multiple Jobs Worksheet on page 3 and enter the result in Step 4(c) below for roughly accurate withholding; or (c) If there are only two jobs total, you may check this box. Do the same on Form W-4 for the other job. This option is accurate for jobs with similar pay; otherwise, more tax than necessary may be withheld ..... TIP: To be accurate, submit a 2020 Form W-4 for all other jobs. If you (or your spouse) have self-employment income, including as an independent contractor, use the estimator.Complete Steps 3Œ4(b) on Form W-4 for only ONE of these jobs. Leave those steps blank for the other jobs. (Your withholding will be most accurate if you complete Steps 3Œ4(b) on the Form W-4 for the highest paying job.)Step 3: Claim DependentsIf your income will be $200,000 or less ($400,000 or less if married filing jointly): Multiply the number of qualifying children under age 17 by $2,000 $Multiply the number of other dependents by $500 ....  $Add the amounts above and enter the total here .............3$Step 4 \n",
      "(optional): Other  \n",
      "Adjustments(a) \n",
      " Other income (not from jobs). If you want tax withheld for other income you expect this year that won™t have withholding, enter the amount of other income here. This may include interest, dividends, and retirement income ............4(a)$(b) \n",
      " Deductions. If you expect to claim deductions other than the standard deductionand want to reduce your withholding, use the Deductions Worksheet on page 3 and enter the result here .....................4(b)$(c)Extra withholding. Enter any additional tax you want withheld each pay period .4(c)$Step 5: Sign \n",
      "HereUnder penalties of perjury, I declare that this certificate, to the best of my knowledge and belief, is true, correct, and complete.Employee™s signature (This form is not valid unless you sign it.)Date Employers \n",
      "OnlyEmployer™s name and address First date of employmentEmployer identification \n",
      "number (EIN)For Privacy Act and Paperwork Reduction Act Notice, see page 3.Cat. No. 10220QForm W-4 (2020) Form W-4 (2020)Page 2General InstructionsFuture DevelopmentsFor the latest information about developments related to Form W-4, such as legislation enacted after it was published, go to www.irs.gov/FormW4.Purpose of FormComplete Form W-4 so that your employer can withhold the correct federal income tax from your pay. If too little is withheld, you will generally owe tax when you file your tax return and may owe a penalty. If too much is withheld, you will \n",
      "generally be due a refund. Complete a new Form W-4 when \n",
      "changes to your personal or financial situation would change the entries on the form. For more information on withholding and when you must furnish a new Form W-4, see Pub. 505. Exemption from withholding. You may claim exemption from \n",
      "withholding for 2020 if you meet both of the following conditions: you had no federal income tax liability in 2019 and you expect to have no federal income tax liability in 2020. You had no federal income tax liability in 2019 if (1) your total tax on \n",
      "line 16 on your 2019 Form 1040 or 1040-SR is zero (or less than the sum of lines 18a, 18b, and 18c), or (2) you were not required to file a return because your income was below the \n",
      "filing threshold for your correct filing status. If you claim \n",
      "exemption, you will have no income tax withheld from your paycheck and may owe taxes and penalties when you file your 2020 tax return. To claim exemption from withholding, certify \n",
      "that you meet both of the conditions above by writing ﬁExemptﬂ \n",
      "on Form W-4 in the space below Step 4(c). Then, complete Steps 1(a), 1(b), and 5. Do not complete any other steps. You will need to submit a new Form W-4 by February 16, 2021.Your privacy. If you prefer to limit information provided in \n",
      "Steps 2 through 4, use the online estimator, which will also increase accuracy. As an alternative to the estimator: if you have concerns with Step 2(c), you may choose Step 2(b); if you have concerns with Step 4(a), you may enter an additional amount \n",
      "you want withheld per pay period in Step 4(c). If this is the only job in your household, you may instead check the box in Step 2(c), which will increase your withholding and \n",
      "significantly reduce your paycheck (often by thousands of \n",
      "dollars over the year).When to use the estimator. Consider using the estimator at www.irs.gov/W4App if you:1. Expect to work only part of the year; \n",
      "2. Have dividend or capital gain income, or are subject to additional taxes, such as the additional Medicare tax;3. Have self-employment income (see below); or\n",
      "4. Prefer the most accurate withholding for multiple job situations.Self-employment. Generally, you will owe both income and self-employment taxes on any self-employment income you receive separate from the wages you receive as an employee. If you want to pay these taxes through \n",
      "withholding from your wages, use the estimator at \n",
      "www.irs.gov/W4App to figure the amount to have withheld.Nonresident alien. If you™re a nonresident alien, see Notice 1392, Supplemental Form W-4 Instructions for Nonresident Aliens, before completing this form.Specific InstructionsStep 1(c). Check your anticipated filing status. This will \n",
      "determine the standard deduction and tax rates used to compute your withholding.Step 2. Use this step if you (1) have more than one job at the same time, or (2) are married filing jointly and you and your \n",
      "spouse both work. Option (a) most accurately calculates the additional tax you need to have withheld, while option (b) does so with a little less accuracy. If you (and your spouse) have a total of only two jobs, you may instead check the box in option (c). The box must also be \n",
      "checked on the Form W-4 for the other job. If the box is checked, the standard deduction and tax brackets will be cut \n",
      "in half for each job to calculate withholding. This option is \n",
      "roughly accurate for jobs with similar pay; otherwise, more tax than necessary may be withheld, and this extra amount will be larger the greater the difference in pay is between the two jobs.!CAUTIONMultiple jobs. Complete Steps 3 through 4(b) on only \n",
      "one Form W-4. Withholding will be most accurate if you do this on the Form W-4 for the highest paying job.Step 3. Step 3 of Form W-4 provides instructions for determining the amount of the child tax credit and the credit for other dependents that you may be able to claim when you file your tax return. To qualify for the child tax credit, the \n",
      "child must be under age 17 as of December 31, must be \n",
      "your dependent who generally lives with you for more than half the year, and must have the required social security number. You may be able to claim a credit for other \n",
      "dependents for whom a child tax credit can™t be claimed, \n",
      "such as an older child or a qualifying relative. For additional eligibility requirements for these credits, see Pub. 972, Child Tax Credit and Credit for Other Dependents. You can also \n",
      "include other tax credits in this step, such as education tax \n",
      "credits and the foreign tax credit. To do so, add an estimate of the amount for the year to your credits for dependents and enter the total amount in Step 3. Including these credits \n",
      "will increase your paycheck and reduce the amount of any \n",
      "refund you may receive when you file your tax return. Step 4 (optional).Step 4(a). Enter in this step the total of your other estimated income for the year, if any. You shouldn™t include income from any jobs or self-employment. If you complete \n",
      "Step 4(a), you likely won™t have to make estimated tax payments for that income. If you prefer to pay estimated tax rather than having tax on other income withheld from your \n",
      "paycheck, see Form 1040-ES, Estimated Tax for Individuals.Step 4(b). Enter in this step the amount from the Deductions Worksheet, line 5, if you expect to claim deductions other than the basic standard deduction on your 2020 tax return and want to reduce your withholding to account for these \n",
      "deductions. This includes both itemized deductions and other \n",
      "deductions such as for student loan interest and IRAs.Step 4(c). Enter in this step any additional tax you want withheld from your pay each pay period, including any amounts from the Multiple Jobs Worksheet, line 4. Entering an amount here will reduce your paycheck and will either increase \n",
      "your refund or reduce any amount of tax that you owe.Form W-4 (2020)Page 3Step 2(b)ŠMultiple Jobs Worksheet  (Keep for your records.)If you choose the option in Step 2(b) on Form W-4, complete this worksheet (which calculates the total extra tax for all jobs) on only ONE Form W-4. Withholding will be most accurate if you complete the worksheet and enter the result on the Form W-4 for the highest paying job.Note: If more than one job has annual wages of more than $120,000 or there are more than three jobs, see Pub. 505 for additional tables; or, you can use the online withholding estimator at www.irs.gov/W4App.1   Two jobs. If you have two jobs or you™re married filing jointly and you and your spouse each have onejob, find the amount from the appropriate table on page 4. Using the ﬁHigher Paying Jobﬂ row and theﬁLower Paying Jobﬂ column, find the value at the intersection of the two household salaries and enter that value on line 1. Then, skip to line 3 .....................1$2 Three jobs. If you and/or your spouse have three jobs at the same time, complete lines 2a, 2b, and 2c below. Otherwise, skip to line 3.a  \n",
      " Find the amount from the appropriate table on page 4 using the annual wages from the highest paying job in the ﬁHigher Paying Jobﬂ row and the annual wages for your next highest paying jobin the ﬁLower Paying Jobﬂ column. Find the value at the intersection of the two household salaries and enter that value on line 2a .......................2a$b \n",
      " \n",
      " Add the annual wages of the two highest paying jobs from line 2a together and use the total as the wages in the ﬁHigher Paying Jobﬂ row and use the annual wages for your third job in the ﬁLower Paying Jobﬂ column to find the amount from the appropriate table on page 4 and enter this amount on line 2b .............................2b$cAdd the amounts from lines 2a and 2b and enter the result on line 2c ..........2c$3 Enter the number of pay periods per year for the highest paying job. For example, if that job paysweekly, enter 52; if it pays every other week, enter 26; if it pays monthly, enter 12, etc. .....34  Divide the annual amount on line 1 or line 2c by the number of pay periods on line 3. Enter thisamount here and in Step 4(c) of Form W-4 for the highest paying job (along with any other additionalamount you want withheld) .........................4$Step 4(b)ŠDeductions Worksheet  (Keep for your records.)1  Enter an estimate of your 2020 itemized deductions (from Schedule A (Form 1040 or 1040-SR)). Such deductions may include qualifying home mortgage interest, charitable contributions, state and local taxes (up to $10,000), and medical expenses in excess of 7.5% of your income .......1$2Enter:{Ł $24,800 if you™re married filing jointly or qualifying widow(er)Ł $18,650 if you™re head of householdŁ $12,400 if you™re single or married filing separately}........2$3If line 1 is greater than line 2, subtract line 2 from line 1. If line 2 is greater than line 1, enter ﬁ-0-ﬂ ..3$4 Enter an estimate of your student loan interest, deductible IRA contributions, and certain other adjustments (from Part II of Schedule 1 (Form 1040 or 1040-SR)). See Pub. 505 for more information  4$5Add lines 3 and 4. Enter the result here and in Step 4(b) of Form W-4 ...........5$Privacy Act and Paperwork Reduction Act Notice. We ask for the information on this form to carry out the Internal Revenue laws of the United States. Internal Revenue Code sections 3402(f)(2) and 6109 and their regulations require you to provide this information; your employer uses it to determine your federal income \n",
      "tax withholding. Failure to provide a properly completed form will result in your \n",
      "being treated as a single person with no other entries on the form; providing fraudulent information may subject you to penalties. Routine uses of this information include giving it to the Department of Justice for civil and criminal \n",
      "litigation; to cities, states, the District of Columbia, and U.S. commonwealths and possessions for use in administering their tax laws; and to the Department of Health and Human Services for use in the National Directory of New Hires. We \n",
      "may also disclose this information to other countries under a tax treaty, to federal \n",
      "and state agencies to enforce federal nontax criminal laws, or to federal law enforcement and intelligence agencies to combat terrorism.You are not required to provide the information requested on a form that is subject to the Paperwork Reduction Act unless the form displays a valid OMB \n",
      "control number. Books or records relating to a form or its instructions must be retained as long as their contents may become material in the administration of \n",
      "any Internal Revenue law. Generally, tax returns and return information are \n",
      "confidential, as required by Code section 6103. The average time and expenses required to complete and file this form will vary depending on individual circumstances. For estimated averages, see the instructions for your income tax return.If you have suggestions for making this form simpler, we would be happy to hear from you. See the instructions for your income tax return.\n"
     ]
    },
    {
     "name": "stdout",
     "output_type": "stream",
     "text": [
      "Page Number 4\n",
      "Content Form  W-42020Employee™s Withholding CertificateDepartment of the Treasury  Internal Revenue Service  Complete Form W-4 so that your employer can withhold the correct federal income tax from your pay.  Give Form W-4 to your employer.  Your withholding is subject to review by the IRS.OMB No. 1545-0074Step 1: Enter \n",
      "Personal \n",
      "Information(a)   First name and middle initialLast nameAddress City or town, state, and ZIP code(b)   Social security number Does your name match the name on your social security card? If not, to ensure you get credit for your earnings, contact SSA at 800-772-1213 or go to www.ssa.gov.(c) Single or Married filing separatelyMarried filing jointly (or Qualifying widow(er))Head of household (Check only if you™re unmarried and pay more than half the costs of keeping up a home for yourself and a qualifying individual.)Complete Steps 2Œ4 ONLY if they apply to you; otherwise, skip to Step 5. See page 2 for more information on each step, who can claim exemption from withholding, when to use the online estimator, and privacy.Step 2: Multiple Jobs \n",
      "or Spouse \n",
      "WorksComplete this step if you (1) hold more than one job at a time, or (2) are married filing jointly and your spousealso works. The correct amount of withholding depends on income earned from all of these jobs.Do only one of the following.(a)Use the estimator at www.irs.gov/W4App for most accurate withholding for this step (and Steps 3Œ4); or (b)Use the Multiple Jobs Worksheet on page 3 and enter the result in Step 4(c) below for roughly accurate withholding; or (c) If there are only two jobs total, you may check this box. Do the same on Form W-4 for the other job. This option is accurate for jobs with similar pay; otherwise, more tax than necessary may be withheld ..... TIP: To be accurate, submit a 2020 Form W-4 for all other jobs. If you (or your spouse) have self-employment income, including as an independent contractor, use the estimator.Complete Steps 3Œ4(b) on Form W-4 for only ONE of these jobs. Leave those steps blank for the other jobs. (Your withholding will be most accurate if you complete Steps 3Œ4(b) on the Form W-4 for the highest paying job.)Step 3: Claim DependentsIf your income will be $200,000 or less ($400,000 or less if married filing jointly): Multiply the number of qualifying children under age 17 by $2,000 $Multiply the number of other dependents by $500 ....  $Add the amounts above and enter the total here .............3$Step 4 \n",
      "(optional): Other  \n",
      "Adjustments(a) \n",
      " Other income (not from jobs). If you want tax withheld for other income you expect this year that won™t have withholding, enter the amount of other income here. This may include interest, dividends, and retirement income ............4(a)$(b) \n",
      " Deductions. If you expect to claim deductions other than the standard deductionand want to reduce your withholding, use the Deductions Worksheet on page 3 and enter the result here .....................4(b)$(c)Extra withholding. Enter any additional tax you want withheld each pay period .4(c)$Step 5: Sign \n",
      "HereUnder penalties of perjury, I declare that this certificate, to the best of my knowledge and belief, is true, correct, and complete.Employee™s signature (This form is not valid unless you sign it.)Date Employers \n",
      "OnlyEmployer™s name and address First date of employmentEmployer identification \n",
      "number (EIN)For Privacy Act and Paperwork Reduction Act Notice, see page 3.Cat. No. 10220QForm W-4 (2020) Form W-4 (2020)Page 2General InstructionsFuture DevelopmentsFor the latest information about developments related to Form W-4, such as legislation enacted after it was published, go to www.irs.gov/FormW4.Purpose of FormComplete Form W-4 so that your employer can withhold the correct federal income tax from your pay. If too little is withheld, you will generally owe tax when you file your tax return and may owe a penalty. If too much is withheld, you will \n",
      "generally be due a refund. Complete a new Form W-4 when \n",
      "changes to your personal or financial situation would change the entries on the form. For more information on withholding and when you must furnish a new Form W-4, see Pub. 505. Exemption from withholding. You may claim exemption from \n",
      "withholding for 2020 if you meet both of the following conditions: you had no federal income tax liability in 2019 and you expect to have no federal income tax liability in 2020. You had no federal income tax liability in 2019 if (1) your total tax on \n",
      "line 16 on your 2019 Form 1040 or 1040-SR is zero (or less than the sum of lines 18a, 18b, and 18c), or (2) you were not required to file a return because your income was below the \n",
      "filing threshold for your correct filing status. If you claim \n",
      "exemption, you will have no income tax withheld from your paycheck and may owe taxes and penalties when you file your 2020 tax return. To claim exemption from withholding, certify \n",
      "that you meet both of the conditions above by writing ﬁExemptﬂ \n",
      "on Form W-4 in the space below Step 4(c). Then, complete Steps 1(a), 1(b), and 5. Do not complete any other steps. You will need to submit a new Form W-4 by February 16, 2021.Your privacy. If you prefer to limit information provided in \n",
      "Steps 2 through 4, use the online estimator, which will also increase accuracy. As an alternative to the estimator: if you have concerns with Step 2(c), you may choose Step 2(b); if you have concerns with Step 4(a), you may enter an additional amount \n",
      "you want withheld per pay period in Step 4(c). If this is the only job in your household, you may instead check the box in Step 2(c), which will increase your withholding and \n",
      "significantly reduce your paycheck (often by thousands of \n",
      "dollars over the year).When to use the estimator. Consider using the estimator at www.irs.gov/W4App if you:1. Expect to work only part of the year; \n",
      "2. Have dividend or capital gain income, or are subject to additional taxes, such as the additional Medicare tax;3. Have self-employment income (see below); or\n",
      "4. Prefer the most accurate withholding for multiple job situations.Self-employment. Generally, you will owe both income and self-employment taxes on any self-employment income you receive separate from the wages you receive as an employee. If you want to pay these taxes through \n",
      "withholding from your wages, use the estimator at \n",
      "www.irs.gov/W4App to figure the amount to have withheld.Nonresident alien. If you™re a nonresident alien, see Notice 1392, Supplemental Form W-4 Instructions for Nonresident Aliens, before completing this form.Specific InstructionsStep 1(c). Check your anticipated filing status. This will \n",
      "determine the standard deduction and tax rates used to compute your withholding.Step 2. Use this step if you (1) have more than one job at the same time, or (2) are married filing jointly and you and your \n",
      "spouse both work. Option (a) most accurately calculates the additional tax you need to have withheld, while option (b) does so with a little less accuracy. If you (and your spouse) have a total of only two jobs, you may instead check the box in option (c). The box must also be \n",
      "checked on the Form W-4 for the other job. If the box is checked, the standard deduction and tax brackets will be cut \n",
      "in half for each job to calculate withholding. This option is \n",
      "roughly accurate for jobs with similar pay; otherwise, more tax than necessary may be withheld, and this extra amount will be larger the greater the difference in pay is between the two jobs.!CAUTIONMultiple jobs. Complete Steps 3 through 4(b) on only \n",
      "one Form W-4. Withholding will be most accurate if you do this on the Form W-4 for the highest paying job.Step 3. Step 3 of Form W-4 provides instructions for determining the amount of the child tax credit and the credit for other dependents that you may be able to claim when you file your tax return. To qualify for the child tax credit, the \n",
      "child must be under age 17 as of December 31, must be \n",
      "your dependent who generally lives with you for more than half the year, and must have the required social security number. You may be able to claim a credit for other \n",
      "dependents for whom a child tax credit can™t be claimed, \n",
      "such as an older child or a qualifying relative. For additional eligibility requirements for these credits, see Pub. 972, Child Tax Credit and Credit for Other Dependents. You can also \n",
      "include other tax credits in this step, such as education tax \n",
      "credits and the foreign tax credit. To do so, add an estimate of the amount for the year to your credits for dependents and enter the total amount in Step 3. Including these credits \n",
      "will increase your paycheck and reduce the amount of any \n",
      "refund you may receive when you file your tax return. Step 4 (optional).Step 4(a). Enter in this step the total of your other estimated income for the year, if any. You shouldn™t include income from any jobs or self-employment. If you complete \n",
      "Step 4(a), you likely won™t have to make estimated tax payments for that income. If you prefer to pay estimated tax rather than having tax on other income withheld from your \n",
      "paycheck, see Form 1040-ES, Estimated Tax for Individuals.Step 4(b). Enter in this step the amount from the Deductions Worksheet, line 5, if you expect to claim deductions other than the basic standard deduction on your 2020 tax return and want to reduce your withholding to account for these \n",
      "deductions. This includes both itemized deductions and other \n",
      "deductions such as for student loan interest and IRAs.Step 4(c). Enter in this step any additional tax you want withheld from your pay each pay period, including any amounts from the Multiple Jobs Worksheet, line 4. Entering an amount here will reduce your paycheck and will either increase \n",
      "your refund or reduce any amount of tax that you owe.Form W-4 (2020)Page 3Step 2(b)ŠMultiple Jobs Worksheet  (Keep for your records.)If you choose the option in Step 2(b) on Form W-4, complete this worksheet (which calculates the total extra tax for all jobs) on only ONE Form W-4. Withholding will be most accurate if you complete the worksheet and enter the result on the Form W-4 for the highest paying job.Note: If more than one job has annual wages of more than $120,000 or there are more than three jobs, see Pub. 505 for additional tables; or, you can use the online withholding estimator at www.irs.gov/W4App.1   Two jobs. If you have two jobs or you™re married filing jointly and you and your spouse each have onejob, find the amount from the appropriate table on page 4. Using the ﬁHigher Paying Jobﬂ row and theﬁLower Paying Jobﬂ column, find the value at the intersection of the two household salaries and enter that value on line 1. Then, skip to line 3 .....................1$2 Three jobs. If you and/or your spouse have three jobs at the same time, complete lines 2a, 2b, and 2c below. Otherwise, skip to line 3.a  \n",
      " Find the amount from the appropriate table on page 4 using the annual wages from the highest paying job in the ﬁHigher Paying Jobﬂ row and the annual wages for your next highest paying jobin the ﬁLower Paying Jobﬂ column. Find the value at the intersection of the two household salaries and enter that value on line 2a .......................2a$b \n",
      " \n",
      " Add the annual wages of the two highest paying jobs from line 2a together and use the total as the wages in the ﬁHigher Paying Jobﬂ row and use the annual wages for your third job in the ﬁLower Paying Jobﬂ column to find the amount from the appropriate table on page 4 and enter this amount on line 2b .............................2b$cAdd the amounts from lines 2a and 2b and enter the result on line 2c ..........2c$3 Enter the number of pay periods per year for the highest paying job. For example, if that job paysweekly, enter 52; if it pays every other week, enter 26; if it pays monthly, enter 12, etc. .....34  Divide the annual amount on line 1 or line 2c by the number of pay periods on line 3. Enter thisamount here and in Step 4(c) of Form W-4 for the highest paying job (along with any other additionalamount you want withheld) .........................4$Step 4(b)ŠDeductions Worksheet  (Keep for your records.)1  Enter an estimate of your 2020 itemized deductions (from Schedule A (Form 1040 or 1040-SR)). Such deductions may include qualifying home mortgage interest, charitable contributions, state and local taxes (up to $10,000), and medical expenses in excess of 7.5% of your income .......1$2Enter:{Ł $24,800 if you™re married filing jointly or qualifying widow(er)Ł $18,650 if you™re head of householdŁ $12,400 if you™re single or married filing separately}........2$3If line 1 is greater than line 2, subtract line 2 from line 1. If line 2 is greater than line 1, enter ﬁ-0-ﬂ ..3$4 Enter an estimate of your student loan interest, deductible IRA contributions, and certain other adjustments (from Part II of Schedule 1 (Form 1040 or 1040-SR)). See Pub. 505 for more information  4$5Add lines 3 and 4. Enter the result here and in Step 4(b) of Form W-4 ...........5$Privacy Act and Paperwork Reduction Act Notice. We ask for the information on this form to carry out the Internal Revenue laws of the United States. Internal Revenue Code sections 3402(f)(2) and 6109 and their regulations require you to provide this information; your employer uses it to determine your federal income \n",
      "tax withholding. Failure to provide a properly completed form will result in your \n",
      "being treated as a single person with no other entries on the form; providing fraudulent information may subject you to penalties. Routine uses of this information include giving it to the Department of Justice for civil and criminal \n",
      "litigation; to cities, states, the District of Columbia, and U.S. commonwealths and possessions for use in administering their tax laws; and to the Department of Health and Human Services for use in the National Directory of New Hires. We \n",
      "may also disclose this information to other countries under a tax treaty, to federal \n",
      "and state agencies to enforce federal nontax criminal laws, or to federal law enforcement and intelligence agencies to combat terrorism.You are not required to provide the information requested on a form that is subject to the Paperwork Reduction Act unless the form displays a valid OMB \n",
      "control number. Books or records relating to a form or its instructions must be retained as long as their contents may become material in the administration of \n",
      "any Internal Revenue law. Generally, tax returns and return information are \n",
      "confidential, as required by Code section 6103. The average time and expenses required to complete and file this form will vary depending on individual circumstances. For estimated averages, see the instructions for your income tax return.If you have suggestions for making this form simpler, we would be happy to hear from you. See the instructions for your income tax return.Form W-4 (2020)Page 4Married Filing Jointly or Qualifying Widow(er)Higher Paying Job Annual Taxable Wage & SalaryLower Paying Job Annual Taxable Wage & Salary    $0 - 9,999$10,000 - 19,999$20,000 - 29,999$30,000 - 39,999$40,000 - 49,999$50,000 - 59,999$60,000 - 69,999$70,000 - 79,999$80,000 - 89,999$90,000 - 99,999$100,000 - 109,999$110,000 - 120,000$0 -     9,999$0$220$850$900$1,020$1,020$1,020$1,020$1,020$1,210$1,870$1,870$10,000 -   19,9992201,2201,9002,1002,2202,2202,2202,2202,4103,4104,0704,070$20,000 -   29,9998501,9002,7302,9303,0503,0503,0503,2404,2405,2405,9005,900$30,000 -   39,9999002,1002,9303,1303,2503,2503,4404,4405,4406,4407,1007,100$40,000 -   49,9991,0202,2203,0503,2503,3703,5704,5705,5706,5707,5708,2208,220$50,000 -   59,9991,0202,2203,0503,2503,5704,5705,5706,5707,5708,5709,2209,220$60,000 -   69,9991,0202,2203,0503,4404,5705,5706,5707,5708,5709,57010,22010,220$70,000 -   79,9991,0202,2203,2404,4405,5706,5707,5708,5709,57010,57011,22011,240$80,000 -   99,9991,0603,2605,0906,2907,4208,4209,42010,42011,42012,42013,26013,460$100,000 - 149,9991,8704,0705,9007,1008,2209,32010,52011,72012,92014,12014,98015,180$150,000 - 239,9992,0404,4406,4707,8709,19010,39011,59012,79013,99015,19016,05016,250$240,000 - 259,9992,0404,4406,4707,8709,19010,39011,59012,79013,99015,52017,17018,170$260,000 - 279,9992,0404,4406,4707,8709,19010,39011,59013,12015,12017,12018,77019,770$280,000 - 299,9992,0404,4406,4707,8709,19010,72012,72014,72016,72018,72020,37021,370$300,000 - 319,9992,0404,4406,4708,20010,32012,32014,32016,32018,32020,32021,97022,970$320,000 - 364,9992,7205,9208,75010,95013,07015,07017,07019,07021,29023,59025,54026,840$365,000 - 524,9992,9706,4709,60012,10014,53016,83019,13021,43023,73026,03027,98029,280$525,000 and over3,1406,84010,17012,87015,50018,00020,50023,00025,50028,00030,15031,650Single or Married Filing SeparatelyHigher Paying Job Annual Taxable Wage & SalaryLower Paying Job Annual Taxable Wage & Salary     $0 - 9,999$10,000 - 19,999$20,000 - 29,999$30,000 - 39,999$40,000 - 49,999$50,000 - 59,999$60,000 - 69,999$70,000 - 79,999$80,000 - 89,999$90,000 - 99,999$100,000 - 109,999$110,000 - 120,000$0 -     9,999$460$940$1,020$1,020$1,470$1,870$1,870$1,870$1,870$2,040$2,040$2,040$10,000 -   19,9999401,5301,6102,0603,0603,4603,4603,4603,6403,8303,8303,830$20,000 -   29,9991,0201,6102,1303,1304,1304,5404,5404,7204,9205,1105,1105,110$30,000 -   39,9991,0202,0603,1304,1305,1305,5405,7205,9206,1206,3106,3106,310$40,000 -   59,9991,8703,4604,5405,5406,6907,2907,4907,6907,8908,0808,0808,080$60,000 -   79,9991,8703,4604,6905,8907,0907,6907,8908,0908,2908,4809,26010,060$80,000 -   99,9992,0203,8105,0906,2907,4908,0908,2908,4909,47010,46011,26012,060$100,000 - 124,9992,0403,8305,1106,3107,5108,4309,43010,43011,43012,42013,52014,620$125,000 - 149,9992,0403,8305,1107,0309,03010,43011,43012,58013,88015,17016,27017,370$150,000 - 174,9992,3604,9507,0309,03011,03012,73014,03015,33016,63017,92019,02020,120$175,000 - 199,9992,7205,3107,5409,84012,14013,84015,14016,44017,74019,03020,13021,230$200,000 - 249,9992,9705,8608,24010,54012,84014,54015,84017,14018,44019,73020,83021,930$250,000 - 399,9992,9705,8608,24010,54012,84014,54015,84017,14018,44019,73020,83021,930$400,000 - 449,9992,9705,8608,24010,54012,84014,54015,84017,14018,45019,94021,24022,540$450,000 and over3,1406,2308,81011,31013,81015,71017,21018,71020,21021,70023,00024,300Head of HouseholdHigher Paying Job Annual Taxable Wage & SalaryLower Paying Job Annual Taxable Wage & Salary      $0 - 9,999$10,000 - 19,999$20,000 - 29,999$30,000 - 39,999$40,000 - 49,999$50,000 - 59,999$60,000 - 69,999$70,000 - 79,999$80,000 - 89,999$90,000 - 99,999$100,000 - 109,999$110,000 - 120,000$0 -     9,999$0$830$930$1,020$1,020$1,020$1,480$1,870$1,870$1,930$2,040$2,040$10,000 -   19,9998301,9202,1302,2202,2202,6803,6804,0704,1304,3304,4404,440$20,000 -   29,9999302,1302,3502,4302,9003,9004,9005,3405,5405,7405,8505,850$30,000 -   39,9991,0202,2202,4302,9803,9804,9806,0406,6306,8307,0307,1407,140$40,000 -   59,9991,0202,5303,7504,8305,8607,0608,2608,8509,0509,2509,3609,360$60,000 -   79,9991,8704,0705,3106,6007,8009,00010,20010,78010,98011,18011,58012,380$80,000 -   99,9991,9004,3005,7107,0008,2009,40010,60011,18011,67012,67013,58014,380$100,000 - 124,9992,0404,4405,8507,1408,3409,54011,36012,75013,75014,75015,77016,870$125,000 - 149,9992,0404,4405,8507,3609,36011,36013,36014,75016,01017,31018,52019,620$150,000 - 174,9992,0405,0607,2809,36011,36013,48015,78017,46018,76020,06021,27022,370$175,000 - 199,9992,7205,9208,13010,48012,78015,08017,38019,07020,37021,67022,88023,980$200,000 - 249,9992,9706,4708,99011,37013,67015,97018,27019,96021,26022,56023,77024,870$250,000 - 349,9992,9706,4708,99011,37013,67015,97018,27019,96021,26022,56023,77024,870$350,000 - 449,9992,9706,4708,99011,37013,67015,97018,27019,96021,26022,56023,90025,200$450,000 and over3,1406,8409,56012,14014,64017,14019,64021,53023,03024,53025,94027,240\n"
     ]
    },
    {
     "ename": "NameError",
     "evalue": "name 'pdfFileObj' is not defined",
     "output_type": "error",
     "traceback": [
      "\u001b[1;31m---------------------------------------------------------------------------\u001b[0m",
      "\u001b[1;31mNameError\u001b[0m                                 Traceback (most recent call last)",
      "\u001b[1;32m<ipython-input-6-3a1868b430e3>\u001b[0m in \u001b[0;36m<module>\u001b[1;34m\u001b[0m\n\u001b[0;32m      8\u001b[0m     \u001b[0mprint\u001b[0m\u001b[1;33m(\u001b[0m\u001b[1;34m\"Page Number\"\u001b[0m\u001b[1;33m,\u001b[0m\u001b[0mcount\u001b[0m\u001b[1;33m)\u001b[0m\u001b[1;33m\u001b[0m\u001b[1;33m\u001b[0m\u001b[0m\n\u001b[0;32m      9\u001b[0m     \u001b[0mprint\u001b[0m\u001b[1;33m(\u001b[0m\u001b[1;34m\"Content\"\u001b[0m\u001b[1;33m,\u001b[0m\u001b[0mtext\u001b[0m\u001b[1;33m)\u001b[0m\u001b[1;33m\u001b[0m\u001b[1;33m\u001b[0m\u001b[0m\n\u001b[1;32m---> 10\u001b[1;33m \u001b[0mpdfFileObj\u001b[0m\u001b[1;33m.\u001b[0m\u001b[0mclose\u001b[0m\u001b[1;33m(\u001b[0m\u001b[1;33m)\u001b[0m\u001b[1;33m\u001b[0m\u001b[1;33m\u001b[0m\u001b[0m\n\u001b[0m",
      "\u001b[1;31mNameError\u001b[0m: name 'pdfFileObj' is not defined"
     ]
    }
   ],
   "source": [
    "count = 0\n",
    "text = \"\"\n",
    "#The while loop will read each page.\n",
    "while count < num_pages:\n",
    "    pageObj = pdfReader.getPage(count)\n",
    "    count +=1\n",
    "    text += pageObj.extractText()\n",
    "    print(\"Page Number\",count)\n",
    "    print(\"Content\",text)\n",
    "pdfFileObj.close()"
   ]
  },
  {
   "cell_type": "markdown",
   "metadata": {},
   "source": [
    "# Reading a Text from an Image\n",
    "### You will use pytesseract, which a python wrapper for Google’s tesseract for optical character recognition (OCR), to read the text embedded in images"
   ]
  },
  {
   "cell_type": "markdown",
   "metadata": {},
   "source": [
    "## Before going to dive, you need to know about configurations\n",
    "### Page segmentation modes(psm)\n",
    "### OCR engine modes(oem)\n",
    "### Language(l)"
   ]
  },
  {
   "cell_type": "markdown",
   "metadata": {},
   "source": [
    "### Import Libraries"
   ]
  },
  {
   "cell_type": "code",
   "execution_count": 1,
   "metadata": {},
   "outputs": [],
   "source": [
    "import pytesseract\n",
    "import cv2"
   ]
  },
  {
   "cell_type": "code",
   "execution_count": 2,
   "metadata": {},
   "outputs": [],
   "source": [
    "image_Filename=r'C:/Users/MANIKANTA/Downloads/pics.png'"
   ]
  },
  {
   "cell_type": "code",
   "execution_count": null,
   "metadata": {},
   "outputs": [],
   "source": [
    "# Read the file  using opencv and show the image\n",
    "img=cv2.imread(image_Filename)\n",
    "cv2.imshow(\"pics\", img)\n",
    "cv2.waitKey(0)"
   ]
  },
  {
   "cell_type": "code",
   "execution_count": null,
   "metadata": {},
   "outputs": [],
   "source": [
    "\n",
    "#set the configuration for redaing text from image using pytesseract\n",
    "custom_config = r'--oem 1 --psm 8 -l eng'\n",
    "text=pytesseract.image_to_string(img, config=custom_config)\n",
    "print(text)"
   ]
  },
  {
   "cell_type": "code",
   "execution_count": null,
   "metadata": {},
   "outputs": [],
   "source": []
  }
 ],
 "metadata": {
  "kernelspec": {
   "display_name": "Python 3",
   "language": "python",
   "name": "python3"
  },
  "language_info": {
   "codemirror_mode": {
    "name": "ipython",
    "version": 3
   },
   "file_extension": ".py",
   "mimetype": "text/x-python",
   "name": "python",
   "nbconvert_exporter": "python",
   "pygments_lexer": "ipython3",
   "version": "3.7.3"
  }
 },
 "nbformat": 4,
 "nbformat_minor": 2
}
